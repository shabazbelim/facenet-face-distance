{
 "cells": [
  {
   "cell_type": "code",
   "execution_count": 3,
   "metadata": {},
   "outputs": [
    {
     "name": "stdout",
     "output_type": "stream",
     "text": [
      "/home/shabaz/datasets/lfw/raw/Adam_Rich/Adam_Rich_0001.jpg\n",
      "/home/shabaz/Documents/resume/IMG_20181111_183719.JPG\n",
      "Model directory: models/facenet/20180402-114759\n",
      "Metagraph file: model-20180402-114759.meta\n",
      "Checkpoint file: model-20180402-114759.ckpt-275\n",
      "INFO:tensorflow:Restoring parameters from models/facenet/20180402-114759/model-20180402-114759.ckpt-275\n",
      "Different persons and distance between images is  1.4278501\n"
     ]
    }
   ],
   "source": [
    "'''\n",
    "    Face detection and alignment using mtcnn\n",
    "'''\n",
    "import os\n",
    "from src.compare import main\n",
    "import time\n",
    "\n",
    "# Add model file path  \n",
    "model_path = 'models/facenet/20180402-114759'\n",
    "\n",
    "# Set environment (Copy address of your \"/facenet-face-distance/src\" folder and paste below)\n",
    "os.environ[\"PYTHONPATH\"]=\"/home/shabaz/Documents/resume/facenet-face-distance/src\"\n",
    "\n",
    "# taking file path as input, which u want to compare\n",
    "file1 = input()\n",
    "file2 = input()\n",
    "\n",
    "os.system('cp '+file1+' ../dataset/raw/s1/')\n",
    "os.system('cp '+file2+' ../dataset/raw/s1/')\n",
    "\n",
    "os.system('for N in {1..2}; do python3 src/align/align_dataset_mtcnn.py ../dataset/raw ../dataset/final --image_size 160 --margin 32 --random_order --gpu_memory_fraction 0.25 & done')\n",
    "\n",
    "time.sleep(7)\n",
    "files = os.listdir('../dataset/raw/s1/')\n",
    "dfiles = []\n",
    "for file in files:\n",
    "    dfiles.append('../dataset/final/s1/'+file.split('.')[0]+'.png')\n",
    "#     os.remove('../dataset/raw/s1/'+file)\n",
    "\n",
    "\n",
    "dist = main(model_path, image_files=dfiles)\n",
    "\n",
    "\n",
    "os.system('rm -rf ../dataset/final/*')\n",
    "\n",
    "if dist<1:\n",
    "    print('Same person and distance between images is ',dist)\n",
    "else:\n",
    "    print('Different persons and distance between images is ',dist)"
   ]
  },
  {
   "cell_type": "code",
   "execution_count": null,
   "metadata": {},
   "outputs": [],
   "source": []
  }
 ],
 "metadata": {
  "kernelspec": {
   "display_name": "Python 3",
   "language": "python",
   "name": "python3"
  },
  "language_info": {
   "codemirror_mode": {
    "name": "ipython",
    "version": 3
   },
   "file_extension": ".py",
   "mimetype": "text/x-python",
   "name": "python",
   "nbconvert_exporter": "python",
   "pygments_lexer": "ipython3",
   "version": "3.6.7"
  }
 },
 "nbformat": 4,
 "nbformat_minor": 2
}
